{
 "cells": [
  {
   "cell_type": "markdown",
   "metadata": {},
   "source": [
    "## Assignment4"
   ]
  },
  {
   "cell_type": "code",
   "execution_count": null,
   "metadata": {},
   "outputs": [],
   "source": [
    "# 1.1 Write a Python Program(with class concepts) to find the area of the triangle using the below formula.\n",
    "#     area = (s*(s-a)*(s-b)*(s-c)) ** 0.5\n",
    "#     Function to take the length of the sides of triangle from user should be defined in the parent\n",
    "#     class and function to calculate the area should be defined in subclass."
   ]
  },
  {
   "cell_type": "code",
   "execution_count": null,
   "metadata": {},
   "outputs": [],
   "source": [
    "class Triangle:\n",
    "    def __init__(self,a,b,c):\n",
    "        self.a = float(input(\"Enter side of triangle(a) :\"));\n",
    "        self.b = float(input(\"Enter side of triangle(b) :\"));\n",
    "        self.c = float(input(\"Enter side of triangle(c) :\"));\n",
    "class Area(Triangle):\n",
    "    def calc_area(self):\n",
    "        s=(self.a + self.b + self.c)/2\n",
    "        a=((s-self.a)*(s-self.b)*(s-self.c))**0.5\n",
    "        return a;\n",
    "output=Area(a,b,c)\n",
    "print(\"Area of triangle is :\" + str(output.calc_area()))"
   ]
  },
  {
   "cell_type": "code",
   "execution_count": null,
   "metadata": {},
   "outputs": [],
   "source": [
    "# 1.2 Write a function filter_long_words() that takes a list of words and an integer n and returns\n",
    "#     the list of words that are longer than n."
   ]
  },
  {
   "cell_type": "code",
   "execution_count": null,
   "metadata": {},
   "outputs": [],
   "source": [
    "def filter_long_words(words,n):\n",
    "    result=[]\n",
    "    for i in words:\n",
    "        if len(i)>n:\n",
    "            result.append(i)\n",
    "    return result\n",
    "words = []\n",
    "output = []\n",
    "words = input(\"Enter a list of words(separated by spaces) :\").split()\n",
    "n = int(input(\"Enter an integer(min length of words required) :\"))\n",
    "output = filter_long_words(words,n)\n",
    "print(\"Words longer than {} are {}.\".format(n,output))"
   ]
  },
  {
   "cell_type": "code",
   "execution_count": null,
   "metadata": {},
   "outputs": [],
   "source": [
    "# 2.1 Write a Python program using function concept that maps list of words into a list of integers\n",
    "#     representing the lengths of the corresponding words.\n",
    "#     Hint: If a list [ ab,cde,erty] is passed on to the python function output should come as [2,3,4]\n",
    "#     Here 2,3 and 4 are the lengths of the words in the list."
   ]
  },
  {
   "cell_type": "code",
   "execution_count": null,
   "metadata": {},
   "outputs": [],
   "source": [
    "def map_words_length(words):\n",
    "    return list(map(len, words))\n",
    "output=[]\n",
    "words = input(\"Enter a list of words(separated by spaces) :\").split()\n",
    "output = map_words_length(words)\n",
    "print(\"Length of the words: {}\".format(output))"
   ]
  },
  {
   "cell_type": "code",
   "execution_count": null,
   "metadata": {},
   "outputs": [],
   "source": [
    "# 2.2 Write a Python function which takes a character (i.e. a string of length 1) and returns True if\n",
    "#     it is a vowel, False otherwise."
   ]
  },
  {
   "cell_type": "code",
   "execution_count": 2,
   "metadata": {},
   "outputs": [
    {
     "name": "stdout",
     "output_type": "stream",
     "text": [
      "Enter a character: a\n",
      "True\n"
     ]
    }
   ],
   "source": [
    "def vowel_check(input_char):   \n",
    "    if len(input_char) == 1:\n",
    "        if input_char in 'aeiouAEIOU':\n",
    "            return True\n",
    "        else:\n",
    "            return False\n",
    "        \n",
    "input_char = input(\"Enter a character: \")\n",
    "output = vowel_check(input_char)\n",
    "print(output)"
   ]
  },
  {
   "cell_type": "code",
   "execution_count": null,
   "metadata": {},
   "outputs": [],
   "source": []
  }
 ],
 "metadata": {
  "kernelspec": {
   "display_name": "Python 3",
   "language": "python",
   "name": "python3"
  },
  "language_info": {
   "codemirror_mode": {
    "name": "ipython",
    "version": 3
   },
   "file_extension": ".py",
   "mimetype": "text/x-python",
   "name": "python",
   "nbconvert_exporter": "python",
   "pygments_lexer": "ipython3",
   "version": "3.8.5"
  }
 },
 "nbformat": 4,
 "nbformat_minor": 4
}
